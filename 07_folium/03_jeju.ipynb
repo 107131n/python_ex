{
 "cells": [
  {
   "cell_type": "code",
   "execution_count": 1,
   "id": "dcda6fde-6271-4910-ac06-7e97612abba4",
   "metadata": {},
   "outputs": [],
   "source": [
    "import pandas as pd"
   ]
  },
  {
   "cell_type": "code",
   "execution_count": 13,
   "id": "10fe858a-7c41-46e0-8372-e9d6b83b7a0b",
   "metadata": {
    "tags": []
   },
   "outputs": [
    {
     "data": {
      "text/html": [
       "<div>\n",
       "<style scoped>\n",
       "    .dataframe tbody tr th:only-of-type {\n",
       "        vertical-align: middle;\n",
       "    }\n",
       "\n",
       "    .dataframe tbody tr th {\n",
       "        vertical-align: top;\n",
       "    }\n",
       "\n",
       "    .dataframe thead th {\n",
       "        text-align: right;\n",
       "    }\n",
       "</style>\n",
       "<table border=\"1\" class=\"dataframe\">\n",
       "  <thead>\n",
       "    <tr style=\"text-align: right;\">\n",
       "      <th></th>\n",
       "      <th>지역</th>\n",
       "      <th>읍면동</th>\n",
       "      <th>전화번호</th>\n",
       "      <th>주소</th>\n",
       "      <th>일반현황</th>\n",
       "      <th>청사현황</th>\n",
       "      <th>자치센터현황</th>\n",
       "      <th>데이터기준일자</th>\n",
       "      <th>Unnamed: 8</th>\n",
       "    </tr>\n",
       "  </thead>\n",
       "  <tbody>\n",
       "    <tr>\n",
       "      <th>0</th>\n",
       "      <td>제주시</td>\n",
       "      <td>일도1동</td>\n",
       "      <td>064-728-4412</td>\n",
       "      <td>제주특별자치도 제주시 중앙로7길 15 (일도일동)</td>\n",
       "      <td>인구 3146명 / 면적 0.33㎢ / 11통 61개반</td>\n",
       "      <td>지상 3층  / 연면적 585㎡</td>\n",
       "      <td>개소일 2000-12-20</td>\n",
       "      <td>2019-06-20</td>\n",
       "      <td>NaN</td>\n",
       "    </tr>\n",
       "  </tbody>\n",
       "</table>\n",
       "</div>"
      ],
      "text/plain": [
       "    지역   읍면동          전화번호                           주소  \\\n",
       "0  제주시  일도1동  064-728-4412  제주특별자치도 제주시 중앙로7길 15 (일도일동)   \n",
       "\n",
       "                             일반현황               청사현황          자치센터현황  \\\n",
       "0  인구 3146명 / 면적 0.33㎢ / 11통 61개반  지상 3층  / 연면적 585㎡  개소일 2000-12-20   \n",
       "\n",
       "      데이터기준일자  Unnamed: 8  \n",
       "0  2019-06-20         NaN  "
      ]
     },
     "execution_count": 13,
     "metadata": {},
     "output_type": "execute_result"
    }
   ],
   "source": [
    "df = pd.read_csv('jeju.csv',encoding='cp949')\n",
    "df.head(1)"
   ]
  },
  {
   "cell_type": "code",
   "execution_count": 4,
   "id": "2816b768-0f09-4a8a-a242-8b6de1ee77af",
   "metadata": {},
   "outputs": [],
   "source": [
    "# 1. 주소 정보를 이용해서 위도,경도 값을 저장합니다. '위치' 컬럼에 (위도,경도) 저장\n",
    "# 주소를 찾아서 저장하는 함수를 작성하여 처리  \n",
    "# 함수 이름은 geo_coder(query) 리턴값 : (위도,경도)  만일 못찾았다면 '결과없음' 으로 리턴\n",
    "# 함수사용, apply()를 이용해 데이터 프레임에 적용"
   ]
  },
  {
   "cell_type": "code",
   "execution_count": 17,
   "id": "f642ba7d-98be-427b-9704-25c9d5d54276",
   "metadata": {},
   "outputs": [],
   "source": [
    "def geo_coder(query):\n",
    "    import requests\n",
    "    REST_API_KEY = 'key'\n",
    "    query = query.split('(')[0]\n",
    "    url = f\"https://dapi.kakao.com/v2/local/search/keyword.json?category_group_code=PO3&query={query}\"\n",
    "    headers = {'Authorization':f'KakaoAK {REST_API_KEY}'}\n",
    "    res = requests.get(url,headers=headers)\n",
    "    jsondata = res.json()\n",
    "    # print(query)\n",
    "    # print(jsondata)\n",
    "    try:\n",
    "        return jsondata['documents'][0]['y'],jsondata['documents'][0]['x']\n",
    "    except:\n",
    "        return '결과없음'"
   ]
  },
  {
   "cell_type": "code",
   "execution_count": 18,
   "id": "a7193bcf-5acf-48d7-9ef2-e4fa098de9fa",
   "metadata": {},
   "outputs": [],
   "source": [
    "df['위치'] = df['주소'].apply(geo_coder)"
   ]
  },
  {
   "cell_type": "code",
   "execution_count": 19,
   "id": "ff0605b7-9cbf-4db4-af14-5bd0c303a147",
   "metadata": {},
   "outputs": [
    {
     "data": {
      "text/html": [
       "<div>\n",
       "<style scoped>\n",
       "    .dataframe tbody tr th:only-of-type {\n",
       "        vertical-align: middle;\n",
       "    }\n",
       "\n",
       "    .dataframe tbody tr th {\n",
       "        vertical-align: top;\n",
       "    }\n",
       "\n",
       "    .dataframe thead th {\n",
       "        text-align: right;\n",
       "    }\n",
       "</style>\n",
       "<table border=\"1\" class=\"dataframe\">\n",
       "  <thead>\n",
       "    <tr style=\"text-align: right;\">\n",
       "      <th></th>\n",
       "      <th>지역</th>\n",
       "      <th>읍면동</th>\n",
       "      <th>전화번호</th>\n",
       "      <th>주소</th>\n",
       "      <th>일반현황</th>\n",
       "      <th>청사현황</th>\n",
       "      <th>자치센터현황</th>\n",
       "      <th>데이터기준일자</th>\n",
       "      <th>Unnamed: 8</th>\n",
       "      <th>위치</th>\n",
       "    </tr>\n",
       "  </thead>\n",
       "  <tbody>\n",
       "    <tr>\n",
       "      <th>0</th>\n",
       "      <td>제주시</td>\n",
       "      <td>일도1동</td>\n",
       "      <td>064-728-4412</td>\n",
       "      <td>제주특별자치도 제주시 중앙로7길 15 (일도일동)</td>\n",
       "      <td>인구 3146명 / 면적 0.33㎢ / 11통 61개반</td>\n",
       "      <td>지상 3층  / 연면적 585㎡</td>\n",
       "      <td>개소일 2000-12-20</td>\n",
       "      <td>2019-06-20</td>\n",
       "      <td>NaN</td>\n",
       "      <td>(33.5150737361162, 126.526342790758)</td>\n",
       "    </tr>\n",
       "  </tbody>\n",
       "</table>\n",
       "</div>"
      ],
      "text/plain": [
       "    지역   읍면동          전화번호                           주소  \\\n",
       "0  제주시  일도1동  064-728-4412  제주특별자치도 제주시 중앙로7길 15 (일도일동)   \n",
       "\n",
       "                             일반현황               청사현황          자치센터현황  \\\n",
       "0  인구 3146명 / 면적 0.33㎢ / 11통 61개반  지상 3층  / 연면적 585㎡  개소일 2000-12-20   \n",
       "\n",
       "      데이터기준일자  Unnamed: 8                                    위치  \n",
       "0  2019-06-20         NaN  (33.5150737361162, 126.526342790758)  "
      ]
     },
     "execution_count": 19,
     "metadata": {},
     "output_type": "execute_result"
    }
   ],
   "source": [
    "df.head(1)"
   ]
  },
  {
   "cell_type": "code",
   "execution_count": 5,
   "id": "9fe0c400-f3df-4712-8e89-2a229b2f9e43",
   "metadata": {},
   "outputs": [],
   "source": [
    "# 2. '위치' 컬럼의 값을 Marker 위치값으로, tooltip으로 읍면동을 사용하여 지도에 표시(클리스터이용)\n",
    "# 함수사용, apply()를 이용해 데이터 프레임에 적용"
   ]
  },
  {
   "cell_type": "code",
   "execution_count": null,
   "id": "90d851e4-b9ae-4784-8d27-c2f29a2bc755",
   "metadata": {},
   "outputs": [],
   "source": []
  },
  {
   "cell_type": "code",
   "execution_count": null,
   "id": "9d179163-224f-4241-be17-78d23df6d17f",
   "metadata": {},
   "outputs": [],
   "source": [
    "# 3. '일반현황'컬럼의 인구수만 분리하여 '인구수'라는 int형 컬럼을 생성"
   ]
  },
  {
   "cell_type": "code",
   "execution_count": null,
   "id": "97c210c3-73cf-4935-890e-190c72fb04a5",
   "metadata": {},
   "outputs": [],
   "source": []
  }
 ],
 "metadata": {
  "kernelspec": {
   "display_name": "Python 3 (ipykernel)",
   "language": "python",
   "name": "python3"
  },
  "language_info": {
   "codemirror_mode": {
    "name": "ipython",
    "version": 3
   },
   "file_extension": ".py",
   "mimetype": "text/x-python",
   "name": "python",
   "nbconvert_exporter": "python",
   "pygments_lexer": "ipython3",
   "version": "3.9.13"
  }
 },
 "nbformat": 4,
 "nbformat_minor": 5
}

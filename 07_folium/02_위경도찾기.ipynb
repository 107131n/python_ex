{
 "cells": [
  {
   "cell_type": "code",
   "execution_count": 1,
   "id": "ed4354ef-464e-4c45-9267-64133bcb21a4",
   "metadata": {},
   "outputs": [],
   "source": [
    "REST_API_KEY = 'key'"
   ]
  },
  {
   "cell_type": "raw",
   "id": "834e2054-574e-406b-a28e-28f611dfb5c0",
   "metadata": {},
   "source": [
    "curl -v -X GET \"https://dapi.kakao.com/v2/local/search/address.json\" \\\n",
    "  -H \"Authorization: KakaoAK ${REST_API_KEY}\" \\\n",
    "  --data-urlencode \"query=전북 삼성동 100\" "
   ]
  },
  {
   "cell_type": "code",
   "execution_count": 2,
   "id": "b36152dc-d6a2-48b9-abf7-c4ddcbe4a1a7",
   "metadata": {},
   "outputs": [],
   "source": [
    "import requests"
   ]
  },
  {
   "cell_type": "code",
   "execution_count": 3,
   "id": "e921c341-6fd3-4a77-8a51-320bd5002283",
   "metadata": {},
   "outputs": [],
   "source": [
    "url = \"https://dapi.kakao.com/v2/local/search/address.json?query={}\".format('전북 삼성동 100')\n",
    "headers = {'Authorization':f'KakaoAK {REST_API_KEY}'}\n",
    "res = requests.get(url,headers=headers)\n",
    "jsondata = res.json()"
   ]
  },
  {
   "cell_type": "code",
   "execution_count": 11,
   "id": "5957a913-af6c-4345-a98b-21c8eed90c95",
   "metadata": {},
   "outputs": [
    {
     "data": {
      "text/plain": [
       "('35.9766482774579', '126.99597495347')"
      ]
     },
     "execution_count": 11,
     "metadata": {},
     "output_type": "execute_result"
    }
   ],
   "source": [
    "jsondata['documents'][0]['address']['y'],jsondata['documents'][0]['address']['x']"
   ]
  },
  {
   "cell_type": "code",
   "execution_count": null,
   "id": "3c9bf5c6-59e2-4e9d-bb67-470018261cec",
   "metadata": {},
   "outputs": [],
   "source": []
  }
 ],
 "metadata": {
  "kernelspec": {
   "display_name": "Python 3 (ipykernel)",
   "language": "python",
   "name": "python3"
  },
  "language_info": {
   "codemirror_mode": {
    "name": "ipython",
    "version": 3
   },
   "file_extension": ".py",
   "mimetype": "text/x-python",
   "name": "python",
   "nbconvert_exporter": "python",
   "pygments_lexer": "ipython3",
   "version": "3.9.13"
  }
 },
 "nbformat": 4,
 "nbformat_minor": 5
}

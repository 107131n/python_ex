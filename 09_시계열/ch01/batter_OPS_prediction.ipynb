{
 "cells": [
  {
   "cell_type": "markdown",
   "metadata": {},
   "source": [
    "# 1. KBO 타자 OPS 예측"
   ]
  },
  {
   "cell_type": "markdown",
   "metadata": {},
   "source": [
    "## 1.1 문제 정의\n",
    "### 1.1.1 경진대회 소개"
   ]
  },
  {
   "cell_type": "markdown",
   "metadata": {},
   "source": [
    "![경진대회소개 이미지](img/1.png)\n",
    "![경진대회 개요](img/2.png)"
   ]
  },
  {
   "cell_type": "markdown",
   "metadata": {},
   "source": [
    "![경진대회 배경](img/3.png)"
   ]
  },
  {
   "cell_type": "markdown",
   "metadata": {},
   "source": [
    "### 1.1.2 평가척도"
   ]
  },
  {
   "cell_type": "markdown",
   "metadata": {},
   "source": [
    "WRMSE(Weighted Root Mean Squeare Error)\n",
    "![경진대회 배경](img/4.png)\n",
    "실제값과 예측값의 차이를 기준으로 평가하므로 오차가 적을수록 좋음.\n",
    "\n",
    "타석에 들어서지 못한 선수들은 가중치가 0이므로 계산 결과도 0이됨.\n",
    "\n",
    "![WRMSE 평가 예시](img/5.png)"
   ]
  },
  {
   "cell_type": "markdown",
   "metadata": {},
   "source": [
    "### 1.1.3 도메인 조사\n",
    "![분석에 필요한 주요 야구 용어](img/6.png)"
   ]
  },
  {
   "cell_type": "markdown",
   "metadata": {
    "tags": []
   },
   "source": [
    "## 1.2. 탐색적 데이터 분석"
   ]
  },
  {
   "cell_type": "code",
   "execution_count": 1,
   "metadata": {},
   "outputs": [],
   "source": [
    "# 필요 라이브러리 로드\n",
    "from matplotlib import font_manager,rc\n",
    "import matplotlib.pyplot as plt\n",
    "import seaborn as sns\n",
    "import pandas as pd\n",
    "import numpy as np\n",
    "import platform\n",
    "\n",
    "if platform.system() == 'Windows':\n",
    "# 윈도우인 경우 맑은 고딕 폰트 이용\n",
    "    font_name = font_manager.FontProperties(fname='c:/Windows/Fonts/malgun.ttf').get_name()\n",
    "    rc('font',family=font_name, size=8)\n",
    "else:\n",
    "# Mac 인 경우\n",
    "    rc('font',family='AppleGothic',size=8)\n",
    "\n",
    "#그래프에서 마이너스 기호가 표시되게 하는 설정입니다.\n",
    "plt.rcParams['axes.unicode_minus'] = False"
   ]
  },
  {
   "cell_type": "markdown",
   "metadata": {},
   "source": [
    "### 1.2.1. 프리시즌 데이터 분석"
   ]
  },
  {
   "cell_type": "code",
   "execution_count": 17,
   "metadata": {
    "tags": []
   },
   "outputs": [
    {
     "name": "stdout",
     "output_type": "stream",
     "text": [
      "(1393, 29)\n"
     ]
    },
    {
     "data": {
      "text/html": [
       "<div>\n",
       "<style scoped>\n",
       "    .dataframe tbody tr th:only-of-type {\n",
       "        vertical-align: middle;\n",
       "    }\n",
       "\n",
       "    .dataframe tbody tr th {\n",
       "        vertical-align: top;\n",
       "    }\n",
       "\n",
       "    .dataframe thead th {\n",
       "        text-align: right;\n",
       "    }\n",
       "</style>\n",
       "<table border=\"1\" class=\"dataframe\">\n",
       "  <thead>\n",
       "    <tr style=\"text-align: right;\">\n",
       "      <th></th>\n",
       "      <th>batter_id</th>\n",
       "      <th>batter_name</th>\n",
       "      <th>year</th>\n",
       "      <th>team</th>\n",
       "      <th>avg</th>\n",
       "      <th>G</th>\n",
       "      <th>AB</th>\n",
       "      <th>R</th>\n",
       "      <th>H</th>\n",
       "      <th>2B</th>\n",
       "      <th>...</th>\n",
       "      <th>GDP</th>\n",
       "      <th>SLG</th>\n",
       "      <th>OBP</th>\n",
       "      <th>E</th>\n",
       "      <th>height/weight</th>\n",
       "      <th>year_born</th>\n",
       "      <th>position</th>\n",
       "      <th>career</th>\n",
       "      <th>starting_salary</th>\n",
       "      <th>OPS</th>\n",
       "    </tr>\n",
       "  </thead>\n",
       "  <tbody>\n",
       "    <tr>\n",
       "      <th>0</th>\n",
       "      <td>0</td>\n",
       "      <td>가르시아</td>\n",
       "      <td>2018</td>\n",
       "      <td>LG</td>\n",
       "      <td>0.350</td>\n",
       "      <td>7</td>\n",
       "      <td>20</td>\n",
       "      <td>1</td>\n",
       "      <td>7</td>\n",
       "      <td>1</td>\n",
       "      <td>...</td>\n",
       "      <td>1</td>\n",
       "      <td>0.55</td>\n",
       "      <td>0.409</td>\n",
       "      <td>1</td>\n",
       "      <td>177cm/93kg</td>\n",
       "      <td>1985년 04월 12일</td>\n",
       "      <td>내야수(우투우타)</td>\n",
       "      <td>쿠바 Ciego de Avila Maximo Gomez Baez(대)</td>\n",
       "      <td>NaN</td>\n",
       "      <td>0.959</td>\n",
       "    </tr>\n",
       "    <tr>\n",
       "      <th>1</th>\n",
       "      <td>1</td>\n",
       "      <td>강경학</td>\n",
       "      <td>2011</td>\n",
       "      <td>한화</td>\n",
       "      <td>0.000</td>\n",
       "      <td>4</td>\n",
       "      <td>2</td>\n",
       "      <td>2</td>\n",
       "      <td>0</td>\n",
       "      <td>0</td>\n",
       "      <td>...</td>\n",
       "      <td>0</td>\n",
       "      <td>0.00</td>\n",
       "      <td>0.500</td>\n",
       "      <td>0</td>\n",
       "      <td>180cm/72kg</td>\n",
       "      <td>1992년 08월 11일</td>\n",
       "      <td>내야수(우투좌타)</td>\n",
       "      <td>광주대성초-광주동성중-광주동성고</td>\n",
       "      <td>10000만원</td>\n",
       "      <td>0.500</td>\n",
       "    </tr>\n",
       "    <tr>\n",
       "      <th>2</th>\n",
       "      <td>1</td>\n",
       "      <td>강경학</td>\n",
       "      <td>2014</td>\n",
       "      <td>한화</td>\n",
       "      <td>-</td>\n",
       "      <td>4</td>\n",
       "      <td>0</td>\n",
       "      <td>2</td>\n",
       "      <td>0</td>\n",
       "      <td>0</td>\n",
       "      <td>...</td>\n",
       "      <td>0</td>\n",
       "      <td>NaN</td>\n",
       "      <td>NaN</td>\n",
       "      <td>0</td>\n",
       "      <td>180cm/72kg</td>\n",
       "      <td>1992년 08월 11일</td>\n",
       "      <td>내야수(우투좌타)</td>\n",
       "      <td>광주대성초-광주동성중-광주동성고</td>\n",
       "      <td>10000만원</td>\n",
       "      <td>NaN</td>\n",
       "    </tr>\n",
       "  </tbody>\n",
       "</table>\n",
       "<p>3 rows × 29 columns</p>\n",
       "</div>"
      ],
      "text/plain": [
       "   batter_id batter_name  year team    avg  G  AB  R  H  2B  ...  GDP   SLG  \\\n",
       "0          0        가르시아  2018   LG  0.350  7  20  1  7   1  ...    1  0.55   \n",
       "1          1         강경학  2011   한화  0.000  4   2  2  0   0  ...    0  0.00   \n",
       "2          1         강경학  2014   한화      -  4   0  2  0   0  ...    0   NaN   \n",
       "\n",
       "     OBP  E  height/weight      year_born   position  \\\n",
       "0  0.409  1     177cm/93kg  1985년 04월 12일  내야수(우투우타)   \n",
       "1  0.500  0     180cm/72kg  1992년 08월 11일  내야수(우투좌타)   \n",
       "2    NaN  0     180cm/72kg  1992년 08월 11일  내야수(우투좌타)   \n",
       "\n",
       "                                   career  starting_salary    OPS  \n",
       "0  쿠바 Ciego de Avila Maximo Gomez Baez(대)              NaN  0.959  \n",
       "1                       광주대성초-광주동성중-광주동성고          10000만원  0.500  \n",
       "2                       광주대성초-광주동성중-광주동성고          10000만원    NaN  \n",
       "\n",
       "[3 rows x 29 columns]"
      ]
     },
     "execution_count": 17,
     "metadata": {},
     "output_type": "execute_result"
    }
   ],
   "source": [
    "# 프리시즌 데이터 로드\n",
    "preseason_df = pd.read_csv('data/Pre_Season_Batter.csv')\n",
    "# 정규시즌 데이터 로드\n",
    "regular_season_df = pd.read_csv('data/Regular_Season_Batter.csv')\n",
    "# 데이터 크기 확인\n",
    "print(preseason_df.shape)\n",
    "# 데이터 상단 출력\n",
    "preseason_df.head(3)"
   ]
  },
  {
   "cell_type": "code",
   "execution_count": 18,
   "metadata": {},
   "outputs": [
    {
     "data": {
      "text/html": [
       "<div>\n",
       "<style scoped>\n",
       "    .dataframe tbody tr th:only-of-type {\n",
       "        vertical-align: middle;\n",
       "    }\n",
       "\n",
       "    .dataframe tbody tr th {\n",
       "        vertical-align: top;\n",
       "    }\n",
       "\n",
       "    .dataframe thead th {\n",
       "        text-align: right;\n",
       "    }\n",
       "</style>\n",
       "<table border=\"1\" class=\"dataframe\">\n",
       "  <thead>\n",
       "    <tr style=\"text-align: right;\">\n",
       "      <th></th>\n",
       "      <th>batter_id</th>\n",
       "      <th>year</th>\n",
       "      <th>G</th>\n",
       "      <th>AB</th>\n",
       "      <th>R</th>\n",
       "      <th>H</th>\n",
       "      <th>2B</th>\n",
       "      <th>3B</th>\n",
       "      <th>HR</th>\n",
       "      <th>TB</th>\n",
       "      <th>...</th>\n",
       "      <th>SB</th>\n",
       "      <th>CS</th>\n",
       "      <th>BB</th>\n",
       "      <th>HBP</th>\n",
       "      <th>SO</th>\n",
       "      <th>GDP</th>\n",
       "      <th>SLG</th>\n",
       "      <th>OBP</th>\n",
       "      <th>E</th>\n",
       "      <th>OPS</th>\n",
       "    </tr>\n",
       "  </thead>\n",
       "  <tbody>\n",
       "    <tr>\n",
       "      <th>count</th>\n",
       "      <td>1393.000000</td>\n",
       "      <td>1393.000000</td>\n",
       "      <td>1393.000000</td>\n",
       "      <td>1393.000000</td>\n",
       "      <td>1393.000000</td>\n",
       "      <td>1393.000000</td>\n",
       "      <td>1393.000000</td>\n",
       "      <td>1393.000000</td>\n",
       "      <td>1393.000000</td>\n",
       "      <td>1393.000000</td>\n",
       "      <td>...</td>\n",
       "      <td>1393.000000</td>\n",
       "      <td>1393.000000</td>\n",
       "      <td>1393.000000</td>\n",
       "      <td>1393.000000</td>\n",
       "      <td>1393.000000</td>\n",
       "      <td>1393.000000</td>\n",
       "      <td>1364.000000</td>\n",
       "      <td>1368.000000</td>\n",
       "      <td>1393.000000</td>\n",
       "      <td>1364.000000</td>\n",
       "    </tr>\n",
       "    <tr>\n",
       "      <th>mean</th>\n",
       "      <td>173.434314</td>\n",
       "      <td>2013.014358</td>\n",
       "      <td>8.705671</td>\n",
       "      <td>19.201723</td>\n",
       "      <td>2.679828</td>\n",
       "      <td>5.021536</td>\n",
       "      <td>0.954774</td>\n",
       "      <td>0.119885</td>\n",
       "      <td>0.391960</td>\n",
       "      <td>7.391960</td>\n",
       "      <td>...</td>\n",
       "      <td>0.629576</td>\n",
       "      <td>0.291457</td>\n",
       "      <td>1.877961</td>\n",
       "      <td>0.330223</td>\n",
       "      <td>3.714286</td>\n",
       "      <td>0.447236</td>\n",
       "      <td>0.361012</td>\n",
       "      <td>0.317912</td>\n",
       "      <td>0.381910</td>\n",
       "      <td>0.676924</td>\n",
       "    </tr>\n",
       "    <tr>\n",
       "      <th>std</th>\n",
       "      <td>94.716851</td>\n",
       "      <td>4.166757</td>\n",
       "      <td>5.562686</td>\n",
       "      <td>13.395946</td>\n",
       "      <td>2.637212</td>\n",
       "      <td>4.232584</td>\n",
       "      <td>1.196904</td>\n",
       "      <td>0.379976</td>\n",
       "      <td>0.748557</td>\n",
       "      <td>6.538787</td>\n",
       "      <td>...</td>\n",
       "      <td>1.146854</td>\n",
       "      <td>0.595522</td>\n",
       "      <td>2.053392</td>\n",
       "      <td>0.642204</td>\n",
       "      <td>3.180884</td>\n",
       "      <td>0.723364</td>\n",
       "      <td>0.269892</td>\n",
       "      <td>0.151489</td>\n",
       "      <td>0.729521</td>\n",
       "      <td>0.386933</td>\n",
       "    </tr>\n",
       "    <tr>\n",
       "      <th>min</th>\n",
       "      <td>0.000000</td>\n",
       "      <td>2002.000000</td>\n",
       "      <td>1.000000</td>\n",
       "      <td>0.000000</td>\n",
       "      <td>0.000000</td>\n",
       "      <td>0.000000</td>\n",
       "      <td>0.000000</td>\n",
       "      <td>0.000000</td>\n",
       "      <td>0.000000</td>\n",
       "      <td>0.000000</td>\n",
       "      <td>...</td>\n",
       "      <td>0.000000</td>\n",
       "      <td>0.000000</td>\n",
       "      <td>0.000000</td>\n",
       "      <td>0.000000</td>\n",
       "      <td>0.000000</td>\n",
       "      <td>0.000000</td>\n",
       "      <td>0.000000</td>\n",
       "      <td>0.000000</td>\n",
       "      <td>0.000000</td>\n",
       "      <td>0.000000</td>\n",
       "    </tr>\n",
       "    <tr>\n",
       "      <th>25%</th>\n",
       "      <td>99.000000</td>\n",
       "      <td>2010.000000</td>\n",
       "      <td>6.000000</td>\n",
       "      <td>9.000000</td>\n",
       "      <td>1.000000</td>\n",
       "      <td>2.000000</td>\n",
       "      <td>0.000000</td>\n",
       "      <td>0.000000</td>\n",
       "      <td>0.000000</td>\n",
       "      <td>2.000000</td>\n",
       "      <td>...</td>\n",
       "      <td>0.000000</td>\n",
       "      <td>0.000000</td>\n",
       "      <td>0.000000</td>\n",
       "      <td>0.000000</td>\n",
       "      <td>1.000000</td>\n",
       "      <td>0.000000</td>\n",
       "      <td>0.217000</td>\n",
       "      <td>0.250000</td>\n",
       "      <td>0.000000</td>\n",
       "      <td>0.472000</td>\n",
       "    </tr>\n",
       "    <tr>\n",
       "      <th>50%</th>\n",
       "      <td>178.000000</td>\n",
       "      <td>2014.000000</td>\n",
       "      <td>9.000000</td>\n",
       "      <td>18.000000</td>\n",
       "      <td>2.000000</td>\n",
       "      <td>4.000000</td>\n",
       "      <td>1.000000</td>\n",
       "      <td>0.000000</td>\n",
       "      <td>0.000000</td>\n",
       "      <td>6.000000</td>\n",
       "      <td>...</td>\n",
       "      <td>0.000000</td>\n",
       "      <td>0.000000</td>\n",
       "      <td>1.000000</td>\n",
       "      <td>0.000000</td>\n",
       "      <td>3.000000</td>\n",
       "      <td>0.000000</td>\n",
       "      <td>0.344500</td>\n",
       "      <td>0.333000</td>\n",
       "      <td>0.000000</td>\n",
       "      <td>0.675000</td>\n",
       "    </tr>\n",
       "    <tr>\n",
       "      <th>75%</th>\n",
       "      <td>254.000000</td>\n",
       "      <td>2017.000000</td>\n",
       "      <td>11.000000</td>\n",
       "      <td>28.000000</td>\n",
       "      <td>4.000000</td>\n",
       "      <td>8.000000</td>\n",
       "      <td>2.000000</td>\n",
       "      <td>0.000000</td>\n",
       "      <td>1.000000</td>\n",
       "      <td>11.000000</td>\n",
       "      <td>...</td>\n",
       "      <td>1.000000</td>\n",
       "      <td>0.000000</td>\n",
       "      <td>3.000000</td>\n",
       "      <td>1.000000</td>\n",
       "      <td>5.000000</td>\n",
       "      <td>1.000000</td>\n",
       "      <td>0.478000</td>\n",
       "      <td>0.400000</td>\n",
       "      <td>1.000000</td>\n",
       "      <td>0.867000</td>\n",
       "    </tr>\n",
       "    <tr>\n",
       "      <th>max</th>\n",
       "      <td>344.000000</td>\n",
       "      <td>2018.000000</td>\n",
       "      <td>119.000000</td>\n",
       "      <td>183.000000</td>\n",
       "      <td>35.000000</td>\n",
       "      <td>51.000000</td>\n",
       "      <td>11.000000</td>\n",
       "      <td>4.000000</td>\n",
       "      <td>5.000000</td>\n",
       "      <td>68.000000</td>\n",
       "      <td>...</td>\n",
       "      <td>9.000000</td>\n",
       "      <td>4.000000</td>\n",
       "      <td>21.000000</td>\n",
       "      <td>4.000000</td>\n",
       "      <td>36.000000</td>\n",
       "      <td>5.000000</td>\n",
       "      <td>4.000000</td>\n",
       "      <td>1.000000</td>\n",
       "      <td>5.000000</td>\n",
       "      <td>5.000000</td>\n",
       "    </tr>\n",
       "  </tbody>\n",
       "</table>\n",
       "<p>8 rows × 21 columns</p>\n",
       "</div>"
      ],
      "text/plain": [
       "         batter_id         year            G           AB            R  \\\n",
       "count  1393.000000  1393.000000  1393.000000  1393.000000  1393.000000   \n",
       "mean    173.434314  2013.014358     8.705671    19.201723     2.679828   \n",
       "std      94.716851     4.166757     5.562686    13.395946     2.637212   \n",
       "min       0.000000  2002.000000     1.000000     0.000000     0.000000   \n",
       "25%      99.000000  2010.000000     6.000000     9.000000     1.000000   \n",
       "50%     178.000000  2014.000000     9.000000    18.000000     2.000000   \n",
       "75%     254.000000  2017.000000    11.000000    28.000000     4.000000   \n",
       "max     344.000000  2018.000000   119.000000   183.000000    35.000000   \n",
       "\n",
       "                 H           2B           3B           HR           TB  ...  \\\n",
       "count  1393.000000  1393.000000  1393.000000  1393.000000  1393.000000  ...   \n",
       "mean      5.021536     0.954774     0.119885     0.391960     7.391960  ...   \n",
       "std       4.232584     1.196904     0.379976     0.748557     6.538787  ...   \n",
       "min       0.000000     0.000000     0.000000     0.000000     0.000000  ...   \n",
       "25%       2.000000     0.000000     0.000000     0.000000     2.000000  ...   \n",
       "50%       4.000000     1.000000     0.000000     0.000000     6.000000  ...   \n",
       "75%       8.000000     2.000000     0.000000     1.000000    11.000000  ...   \n",
       "max      51.000000    11.000000     4.000000     5.000000    68.000000  ...   \n",
       "\n",
       "                SB           CS           BB          HBP           SO  \\\n",
       "count  1393.000000  1393.000000  1393.000000  1393.000000  1393.000000   \n",
       "mean      0.629576     0.291457     1.877961     0.330223     3.714286   \n",
       "std       1.146854     0.595522     2.053392     0.642204     3.180884   \n",
       "min       0.000000     0.000000     0.000000     0.000000     0.000000   \n",
       "25%       0.000000     0.000000     0.000000     0.000000     1.000000   \n",
       "50%       0.000000     0.000000     1.000000     0.000000     3.000000   \n",
       "75%       1.000000     0.000000     3.000000     1.000000     5.000000   \n",
       "max       9.000000     4.000000    21.000000     4.000000    36.000000   \n",
       "\n",
       "               GDP          SLG          OBP            E          OPS  \n",
       "count  1393.000000  1364.000000  1368.000000  1393.000000  1364.000000  \n",
       "mean      0.447236     0.361012     0.317912     0.381910     0.676924  \n",
       "std       0.723364     0.269892     0.151489     0.729521     0.386933  \n",
       "min       0.000000     0.000000     0.000000     0.000000     0.000000  \n",
       "25%       0.000000     0.217000     0.250000     0.000000     0.472000  \n",
       "50%       0.000000     0.344500     0.333000     0.000000     0.675000  \n",
       "75%       1.000000     0.478000     0.400000     1.000000     0.867000  \n",
       "max       5.000000     4.000000     1.000000     5.000000     5.000000  \n",
       "\n",
       "[8 rows x 21 columns]"
      ]
     },
     "execution_count": 18,
     "metadata": {},
     "output_type": "execute_result"
    }
   ],
   "source": [
    "# 데이터 기초통계량 확인\n",
    "preseason_df.describe()"
   ]
  },
  {
   "cell_type": "code",
   "execution_count": 19,
   "metadata": {
    "collapsed": true,
    "jupyter": {
     "outputs_hidden": true
    },
    "tags": []
   },
   "outputs": [
    {
     "data": {
      "text/plain": [
       "year\n",
       "1993      1\n",
       "1994      2\n",
       "1995      1\n",
       "1996      7\n",
       "1997      8\n",
       "1998     10\n",
       "1999     14\n",
       "2000     20\n",
       "2001     32\n",
       "2002     43\n",
       "2003     54\n",
       "2004     68\n",
       "2005     73\n",
       "2006     85\n",
       "2007     98\n",
       "2008    115\n",
       "2009    124\n",
       "2010    130\n",
       "2011    151\n",
       "2012    174\n",
       "2013    194\n",
       "2014    186\n",
       "2015    207\n",
       "2016    213\n",
       "2017    217\n",
       "2018    227\n",
       "Name: regular, dtype: int64"
      ]
     },
     "execution_count": 19,
     "metadata": {},
     "output_type": "execute_result"
    }
   ],
   "source": [
    "# 정규시즌 데이터에서 2002년 이후의 연도별 기록된 선수의 수\n",
    "regular_count = regular_season_df.groupby('year')['batter_id'].count().rename('regular')\n",
    "regular_count"
   ]
  },
  {
   "cell_type": "code",
   "execution_count": 20,
   "metadata": {},
   "outputs": [
    {
     "data": {
      "image/png": "[encoded data removed]",
      "text/plain": [
       "<Figure size 1000x900 with 25 Axes>"
      ]
     },
     "metadata": {},
     "output_type": "display_data"
    }
   ],
   "source": [
    "# 데이터 시각화\n",
    "preseason_df.hist(figsize=(10,9))\n",
    "plt.tight_layout()\n",
    "plt.show()"
   ]
  },
  {
   "cell_type": "code",
   "execution_count": 21,
   "metadata": {
    "collapsed": true,
    "jupyter": {
     "outputs_hidden": true
    },
    "tags": []
   },
   "outputs": [
    {
     "data": {
      "text/plain": [
       "year\n",
       "2002     12\n",
       "2003     19\n",
       "2004     28\n",
       "2005     37\n",
       "2006     36\n",
       "2007     43\n",
       "2008     61\n",
       "2009     66\n",
       "2010     72\n",
       "2011     75\n",
       "2012     87\n",
       "2013    104\n",
       "2014    117\n",
       "2015    134\n",
       "2016    153\n",
       "2017    167\n",
       "2018    182\n",
       "Name: preseason, dtype: int64"
      ]
     },
     "execution_count": 21,
     "metadata": {},
     "output_type": "execute_result"
    }
   ],
   "source": [
    "# 프리시즌 데이터에서 연도별 기록된 선수의 수\n",
    "preseason_count = preseason_df.groupby('year')['batter_id'].count().rename('preseason')\n",
    "preseason_count"
   ]
  },
  {
   "cell_type": "code",
   "execution_count": 24,
   "metadata": {},
   "outputs": [
    {
     "data": {
      "text/html": [
       "<div>\n",
       "<style scoped>\n",
       "    .dataframe tbody tr th:only-of-type {\n",
       "        vertical-align: middle;\n",
       "    }\n",
       "\n",
       "    .dataframe tbody tr th {\n",
       "        vertical-align: top;\n",
       "    }\n",
       "\n",
       "    .dataframe thead th {\n",
       "        text-align: right;\n",
       "    }\n",
       "</style>\n",
       "<table border=\"1\" class=\"dataframe\">\n",
       "  <thead>\n",
       "    <tr style=\"text-align: right;\">\n",
       "      <th>year</th>\n",
       "      <th>2002</th>\n",
       "      <th>2003</th>\n",
       "      <th>2004</th>\n",
       "      <th>2005</th>\n",
       "      <th>2006</th>\n",
       "      <th>2007</th>\n",
       "      <th>2008</th>\n",
       "      <th>2009</th>\n",
       "      <th>2010</th>\n",
       "      <th>2011</th>\n",
       "      <th>2012</th>\n",
       "      <th>2013</th>\n",
       "      <th>2014</th>\n",
       "      <th>2015</th>\n",
       "      <th>2016</th>\n",
       "      <th>2017</th>\n",
       "      <th>2018</th>\n",
       "    </tr>\n",
       "  </thead>\n",
       "  <tbody>\n",
       "    <tr>\n",
       "      <th>regular</th>\n",
       "      <td>43.00</td>\n",
       "      <td>54.00</td>\n",
       "      <td>68.00</td>\n",
       "      <td>73.00</td>\n",
       "      <td>85.00</td>\n",
       "      <td>98.00</td>\n",
       "      <td>115.00</td>\n",
       "      <td>124.00</td>\n",
       "      <td>130.00</td>\n",
       "      <td>151.0</td>\n",
       "      <td>174.0</td>\n",
       "      <td>194.00</td>\n",
       "      <td>186.00</td>\n",
       "      <td>207.00</td>\n",
       "      <td>213.00</td>\n",
       "      <td>217.00</td>\n",
       "      <td>227.0</td>\n",
       "    </tr>\n",
       "    <tr>\n",
       "      <th>preseason</th>\n",
       "      <td>12.00</td>\n",
       "      <td>19.00</td>\n",
       "      <td>28.00</td>\n",
       "      <td>37.00</td>\n",
       "      <td>36.00</td>\n",
       "      <td>43.00</td>\n",
       "      <td>61.00</td>\n",
       "      <td>66.00</td>\n",
       "      <td>72.00</td>\n",
       "      <td>75.0</td>\n",
       "      <td>87.0</td>\n",
       "      <td>104.00</td>\n",
       "      <td>117.00</td>\n",
       "      <td>134.00</td>\n",
       "      <td>153.00</td>\n",
       "      <td>167.00</td>\n",
       "      <td>182.0</td>\n",
       "    </tr>\n",
       "    <tr>\n",
       "      <th>ratio</th>\n",
       "      <td>0.28</td>\n",
       "      <td>0.35</td>\n",
       "      <td>0.41</td>\n",
       "      <td>0.51</td>\n",
       "      <td>0.42</td>\n",
       "      <td>0.44</td>\n",
       "      <td>0.53</td>\n",
       "      <td>0.53</td>\n",
       "      <td>0.55</td>\n",
       "      <td>0.5</td>\n",
       "      <td>0.5</td>\n",
       "      <td>0.54</td>\n",
       "      <td>0.63</td>\n",
       "      <td>0.65</td>\n",
       "      <td>0.72</td>\n",
       "      <td>0.77</td>\n",
       "      <td>0.8</td>\n",
       "    </tr>\n",
       "  </tbody>\n",
       "</table>\n",
       "</div>"
      ],
      "text/plain": [
       "year        2002   2003   2004   2005   2006   2007    2008    2009    2010  \\\n",
       "regular    43.00  54.00  68.00  73.00  85.00  98.00  115.00  124.00  130.00   \n",
       "preseason  12.00  19.00  28.00  37.00  36.00  43.00   61.00   66.00   72.00   \n",
       "ratio       0.28   0.35   0.41   0.51   0.42   0.44    0.53    0.53    0.55   \n",
       "\n",
       "year        2011   2012    2013    2014    2015    2016    2017   2018  \n",
       "regular    151.0  174.0  194.00  186.00  207.00  213.00  217.00  227.0  \n",
       "preseason   75.0   87.0  104.00  117.00  134.00  153.00  167.00  182.0  \n",
       "ratio        0.5    0.5    0.54    0.63    0.65    0.72    0.77    0.8  "
      ]
     },
     "execution_count": 24,
     "metadata": {},
     "output_type": "execute_result"
    }
   ],
   "source": [
    "pd.concat([regular_count, \n",
    "           preseason_count,\n",
    "           np.round(preseason_count/regular_count ,2).rename('ratio')],\n",
    "          axis=1).T.loc[:,2002:]"
   ]
  },
  {
   "cell_type": "code",
   "execution_count": 27,
   "metadata": {},
   "outputs": [],
   "source": [
    "#프리시즌 성적과 정규시즌의 성적 간의 상관관계를 살펴보기 위해 두 데이터에 공통적으로 존제하는 선수들의 기록만 정리\n",
    "\n",
    "# 타자의 이름과 연도를 이용해 새로운 인덱스를 생성\n",
    "regular_season_df['new_idx'] = regular_season_df['batter_name'] + regular_season_df['year'].apply(str)\n",
    "preseason_df['new_idx'] = preseason_df['batter_name'] + preseason_df['year'].apply(str)"
   ]
  },
  {
   "cell_type": "code",
   "execution_count": 34,
   "metadata": {
    "tags": []
   },
   "outputs": [
    {
     "data": {
      "text/plain": [
       "1358"
      ]
     },
     "execution_count": 34,
     "metadata": {},
     "output_type": "execute_result"
    }
   ],
   "source": [
    "# 새로운 인덱스의 교집합\n",
    "intersection_idx = list(set(regular_season_df['new_idx']).intersection(preseason_df['new_idx']))\n",
    "len(intersection_idx)"
   ]
  },
  {
   "cell_type": "code",
   "execution_count": 38,
   "metadata": {
    "collapsed": true,
    "jupyter": {
     "outputs_hidden": true
    },
    "tags": []
   },
   "outputs": [
    {
     "data": {
      "text/html": [
       "<div>\n",
       "<style scoped>\n",
       "    .dataframe tbody tr th:only-of-type {\n",
       "        vertical-align: middle;\n",
       "    }\n",
       "\n",
       "    .dataframe tbody tr th {\n",
       "        vertical-align: top;\n",
       "    }\n",
       "\n",
       "    .dataframe thead th {\n",
       "        text-align: right;\n",
       "    }\n",
       "</style>\n",
       "<table border=\"1\" class=\"dataframe\">\n",
       "  <thead>\n",
       "    <tr style=\"text-align: right;\">\n",
       "      <th></th>\n",
       "      <th>batter_id</th>\n",
       "      <th>batter_name</th>\n",
       "      <th>year</th>\n",
       "      <th>team</th>\n",
       "      <th>avg</th>\n",
       "      <th>G</th>\n",
       "      <th>AB</th>\n",
       "      <th>R</th>\n",
       "      <th>H</th>\n",
       "      <th>2B</th>\n",
       "      <th>...</th>\n",
       "      <th>SLG</th>\n",
       "      <th>OBP</th>\n",
       "      <th>E</th>\n",
       "      <th>height/weight</th>\n",
       "      <th>year_born</th>\n",
       "      <th>position</th>\n",
       "      <th>career</th>\n",
       "      <th>starting_salary</th>\n",
       "      <th>OPS</th>\n",
       "      <th>new_idx</th>\n",
       "    </tr>\n",
       "  </thead>\n",
       "  <tbody>\n",
       "    <tr>\n",
       "      <th>0</th>\n",
       "      <td>0</td>\n",
       "      <td>가르시아</td>\n",
       "      <td>2018</td>\n",
       "      <td>LG</td>\n",
       "      <td>0.339</td>\n",
       "      <td>50</td>\n",
       "      <td>183</td>\n",
       "      <td>27</td>\n",
       "      <td>62</td>\n",
       "      <td>9</td>\n",
       "      <td>...</td>\n",
       "      <td>0.519</td>\n",
       "      <td>0.383</td>\n",
       "      <td>9</td>\n",
       "      <td>177cm/93kg</td>\n",
       "      <td>1985년 04월 12일</td>\n",
       "      <td>내야수(우투우타)</td>\n",
       "      <td>쿠바 Ciego de Avila Maximo Gomez Baez(대)</td>\n",
       "      <td>NaN</td>\n",
       "      <td>0.902</td>\n",
       "      <td>가르시아2018</td>\n",
       "    </tr>\n",
       "    <tr>\n",
       "      <th>1</th>\n",
       "      <td>1</td>\n",
       "      <td>강경학</td>\n",
       "      <td>2011</td>\n",
       "      <td>한화</td>\n",
       "      <td>0.000</td>\n",
       "      <td>2</td>\n",
       "      <td>1</td>\n",
       "      <td>0</td>\n",
       "      <td>0</td>\n",
       "      <td>0</td>\n",
       "      <td>...</td>\n",
       "      <td>0.000</td>\n",
       "      <td>0.000</td>\n",
       "      <td>1</td>\n",
       "      <td>180cm/72kg</td>\n",
       "      <td>1992년 08월 11일</td>\n",
       "      <td>내야수(우투좌타)</td>\n",
       "      <td>광주대성초-광주동성중-광주동성고</td>\n",
       "      <td>10000만원</td>\n",
       "      <td>0.000</td>\n",
       "      <td>강경학2011</td>\n",
       "    </tr>\n",
       "  </tbody>\n",
       "</table>\n",
       "<p>2 rows × 30 columns</p>\n",
       "</div>"
      ],
      "text/plain": [
       "   batter_id batter_name  year team    avg   G   AB   R   H  2B  ...    SLG  \\\n",
       "0          0        가르시아  2018   LG  0.339  50  183  27  62   9  ...  0.519   \n",
       "1          1         강경학  2011   한화  0.000   2    1   0   0   0  ...  0.000   \n",
       "\n",
       "     OBP  E  height/weight      year_born   position  \\\n",
       "0  0.383  9     177cm/93kg  1985년 04월 12일  내야수(우투우타)   \n",
       "1  0.000  1     180cm/72kg  1992년 08월 11일  내야수(우투좌타)   \n",
       "\n",
       "                                   career  starting_salary    OPS   new_idx  \n",
       "0  쿠바 Ciego de Avila Maximo Gomez Baez(대)              NaN  0.902  가르시아2018  \n",
       "1                       광주대성초-광주동성중-광주동성고          10000만원  0.000   강경학2011  \n",
       "\n",
       "[2 rows x 30 columns]"
      ]
     },
     "execution_count": 38,
     "metadata": {},
     "output_type": "execute_result"
    }
   ],
   "source": [
    "# 교집합에 존재하는 데이터만 불러오기\n",
    "regular_season_new = regular_season_df.loc[regular_season_df['new_idx'].apply(lambda x:x in intersection_idx)].copy()\n",
    "regular_season_new = regular_season_new.sort_values(by='new_idx').reset_index(drop=True)\n",
    "regular_season_new.head(2)"
   ]
  },
  {
   "cell_type": "code",
   "execution_count": 39,
   "metadata": {
    "collapsed": true,
    "jupyter": {
     "outputs_hidden": true
    },
    "tags": []
   },
   "outputs": [
    {
     "data": {
      "text/html": [
       "<div>\n",
       "<style scoped>\n",
       "    .dataframe tbody tr th:only-of-type {\n",
       "        vertical-align: middle;\n",
       "    }\n",
       "\n",
       "    .dataframe tbody tr th {\n",
       "        vertical-align: top;\n",
       "    }\n",
       "\n",
       "    .dataframe thead th {\n",
       "        text-align: right;\n",
       "    }\n",
       "</style>\n",
       "<table border=\"1\" class=\"dataframe\">\n",
       "  <thead>\n",
       "    <tr style=\"text-align: right;\">\n",
       "      <th></th>\n",
       "      <th>batter_id</th>\n",
       "      <th>batter_name</th>\n",
       "      <th>year</th>\n",
       "      <th>team</th>\n",
       "      <th>avg</th>\n",
       "      <th>G</th>\n",
       "      <th>AB</th>\n",
       "      <th>R</th>\n",
       "      <th>H</th>\n",
       "      <th>2B</th>\n",
       "      <th>...</th>\n",
       "      <th>SLG</th>\n",
       "      <th>OBP</th>\n",
       "      <th>E</th>\n",
       "      <th>height/weight</th>\n",
       "      <th>year_born</th>\n",
       "      <th>position</th>\n",
       "      <th>career</th>\n",
       "      <th>starting_salary</th>\n",
       "      <th>OPS</th>\n",
       "      <th>new_idx</th>\n",
       "    </tr>\n",
       "  </thead>\n",
       "  <tbody>\n",
       "    <tr>\n",
       "      <th>0</th>\n",
       "      <td>0</td>\n",
       "      <td>가르시아</td>\n",
       "      <td>2018</td>\n",
       "      <td>LG</td>\n",
       "      <td>0.350</td>\n",
       "      <td>7</td>\n",
       "      <td>20</td>\n",
       "      <td>1</td>\n",
       "      <td>7</td>\n",
       "      <td>1</td>\n",
       "      <td>...</td>\n",
       "      <td>0.55</td>\n",
       "      <td>0.409</td>\n",
       "      <td>1</td>\n",
       "      <td>177cm/93kg</td>\n",
       "      <td>1985년 04월 12일</td>\n",
       "      <td>내야수(우투우타)</td>\n",
       "      <td>쿠바 Ciego de Avila Maximo Gomez Baez(대)</td>\n",
       "      <td>NaN</td>\n",
       "      <td>0.959</td>\n",
       "      <td>가르시아2018</td>\n",
       "    </tr>\n",
       "    <tr>\n",
       "      <th>1</th>\n",
       "      <td>1</td>\n",
       "      <td>강경학</td>\n",
       "      <td>2011</td>\n",
       "      <td>한화</td>\n",
       "      <td>0.000</td>\n",
       "      <td>4</td>\n",
       "      <td>2</td>\n",
       "      <td>2</td>\n",
       "      <td>0</td>\n",
       "      <td>0</td>\n",
       "      <td>...</td>\n",
       "      <td>0.00</td>\n",
       "      <td>0.500</td>\n",
       "      <td>0</td>\n",
       "      <td>180cm/72kg</td>\n",
       "      <td>1992년 08월 11일</td>\n",
       "      <td>내야수(우투좌타)</td>\n",
       "      <td>광주대성초-광주동성중-광주동성고</td>\n",
       "      <td>10000만원</td>\n",
       "      <td>0.500</td>\n",
       "      <td>강경학2011</td>\n",
       "    </tr>\n",
       "  </tbody>\n",
       "</table>\n",
       "<p>2 rows × 30 columns</p>\n",
       "</div>"
      ],
      "text/plain": [
       "   batter_id batter_name  year team    avg  G  AB  R  H  2B  ...   SLG    OBP  \\\n",
       "0          0        가르시아  2018   LG  0.350  7  20  1  7   1  ...  0.55  0.409   \n",
       "1          1         강경학  2011   한화  0.000  4   2  2  0   0  ...  0.00  0.500   \n",
       "\n",
       "   E  height/weight      year_born   position  \\\n",
       "0  1     177cm/93kg  1985년 04월 12일  내야수(우투우타)   \n",
       "1  0     180cm/72kg  1992년 08월 11일  내야수(우투좌타)   \n",
       "\n",
       "                                   career  starting_salary    OPS   new_idx  \n",
       "0  쿠바 Ciego de Avila Maximo Gomez Baez(대)              NaN  0.959  가르시아2018  \n",
       "1                       광주대성초-광주동성중-광주동성고          10000만원  0.500   강경학2011  \n",
       "\n",
       "[2 rows x 30 columns]"
      ]
     },
     "execution_count": 39,
     "metadata": {},
     "output_type": "execute_result"
    }
   ],
   "source": [
    "# 비교를 위해 인덱스로 정렬\n",
    "preseason_new = preseason_df.loc[preseason_df['new_idx'].apply(lambda x: x in intersection_idx)].copy()\n",
    "preseason_new = preseason_new.sort_values(by='new_idx').reset_index(drop=True)\n",
    "preseason_new.head(2)"
   ]
  },
  {
   "cell_type": "code",
   "execution_count": 40,
   "metadata": {},
   "outputs": [
    {
     "name": "stdout",
     "output_type": "stream",
     "text": [
      "(1358, 30) (1358, 30)\n"
     ]
    },
    {
     "data": {
      "text/plain": [
       "1358"
      ]
     },
     "execution_count": 40,
     "metadata": {},
     "output_type": "execute_result"
    }
   ],
   "source": [
    "# 검정 코드\n",
    "print(regular_season_new.shape,preseason_new.shape)\n",
    "sum(regular_season_new['new_idx']==preseason_new['new_idx'])"
   ]
  },
  {
   "cell_type": "code",
   "execution_count": 42,
   "metadata": {},
   "outputs": [
    {
     "data": {
      "image/png": "[encoded data removed]",
      "text/plain": [
       "<Figure size 640x480 with 1 Axes>"
      ]
     },
     "metadata": {},
     "output_type": "display_data"
    }
   ],
   "source": [
    "# 정규시즌과 프리시즌의 상관관계 계산\n",
    "correlation = regular_season_new['OPS'].corr(preseason_new['OPS'])\n",
    "correlation\n",
    "sns.scatterplot(x=regular_season_new['OPS'],y=preseason_new['OPS'])\n",
    "plt.xlabel('정규시즌 ops')\n",
    "plt.ylabel('프리시즌 ops')\n",
    "plt.show()"
   ]
  },
  {
   "cell_type": "markdown",
   "metadata": {},
   "source": [
    "### 1.2.2. 정규시즌 데이터 분석"
   ]
  },
  {
   "cell_type": "code",
   "execution_count": null,
   "metadata": {},
   "outputs": [],
   "source": []
  },
  {
   "cell_type": "code",
   "execution_count": null,
   "metadata": {},
   "outputs": [],
   "source": []
  },
  {
   "cell_type": "code",
   "execution_count": null,
   "metadata": {},
   "outputs": [],
   "source": []
  },
  {
   "cell_type": "code",
   "execution_count": null,
   "metadata": {},
   "outputs": [],
   "source": []
  },
  {
   "cell_type": "markdown",
   "metadata": {},
   "source": [
    "<a id='m1'>연도별 OPS 중앙값 그래프</a>"
   ]
  },
  {
   "cell_type": "code",
   "execution_count": null,
   "metadata": {},
   "outputs": [],
   "source": []
  },
  {
   "cell_type": "code",
   "execution_count": null,
   "metadata": {},
   "outputs": [],
   "source": []
  },
  {
   "cell_type": "markdown",
   "metadata": {},
   "source": [
    "<a id='m2'>연도별 팀 OPS</a>"
   ]
  },
  {
   "cell_type": "code",
   "execution_count": null,
   "metadata": {},
   "outputs": [],
   "source": [
    "# 연도별 팀의 OPS 중앙값 계산\n"
   ]
  },
  {
   "cell_type": "code",
   "execution_count": null,
   "metadata": {},
   "outputs": [],
   "source": [
    "# 2005년 이후에 결측치가 존재하지 않는 팀만 확인\n"
   ]
  },
  {
   "cell_type": "code",
   "execution_count": null,
   "metadata": {
    "tags": []
   },
   "outputs": [],
   "source": []
  },
  {
   "cell_type": "code",
   "execution_count": null,
   "metadata": {},
   "outputs": [],
   "source": []
  },
  {
   "cell_type": "code",
   "execution_count": null,
   "metadata": {},
   "outputs": [],
   "source": []
  },
  {
   "cell_type": "code",
   "execution_count": null,
   "metadata": {},
   "outputs": [],
   "source": [
    "# 몸무게/키 계산\n",
    "\n",
    "\n",
    "# 정규시즌과 프리시즌의 상관관계 계산\n",
    "\n",
    "\n",
    "# 정규시즌과 프리시즌의 상관관계 계산\n",
    "\n"
   ]
  },
  {
   "cell_type": "code",
   "execution_count": null,
   "metadata": {},
   "outputs": [],
   "source": []
  },
  {
   "cell_type": "code",
   "execution_count": null,
   "metadata": {},
   "outputs": [],
   "source": [
    "# position\n",
    "\n",
    "\n",
    "# 우타, 좌타, 양타\n"
   ]
  },
  {
   "cell_type": "code",
   "execution_count": null,
   "metadata": {},
   "outputs": [],
   "source": []
  },
  {
   "cell_type": "code",
   "execution_count": null,
   "metadata": {},
   "outputs": [],
   "source": []
  },
  {
   "cell_type": "code",
   "execution_count": null,
   "metadata": {},
   "outputs": [],
   "source": [
    "# career를 split\n",
    "\n",
    "# 외국만 추출\n",
    "\n",
    "# 결측치 처리\n"
   ]
  },
  {
   "cell_type": "code",
   "execution_count": null,
   "metadata": {},
   "outputs": [],
   "source": []
  },
  {
   "cell_type": "code",
   "execution_count": null,
   "metadata": {},
   "outputs": [],
   "source": []
  },
  {
   "cell_type": "code",
   "execution_count": null,
   "metadata": {},
   "outputs": [],
   "source": []
  },
  {
   "cell_type": "code",
   "execution_count": null,
   "metadata": {},
   "outputs": [],
   "source": [
    "# 결측치라면 그대로 0으로 두고 ‘만원’이 포함되어 있다면 숫자만 뽑아서 초봉으로 넣어준다. 그외 만 원 단위가 아닌 초봉은 결측치로 처리한다.\n"
   ]
  },
  {
   "cell_type": "code",
   "execution_count": null,
   "metadata": {},
   "outputs": [],
   "source": []
  },
  {
   "cell_type": "markdown",
   "metadata": {},
   "source": [
    "### 1.2.3. 일별 데이터 분석"
   ]
  },
  {
   "cell_type": "code",
   "execution_count": null,
   "metadata": {},
   "outputs": [],
   "source": []
  },
  {
   "cell_type": "code",
   "execution_count": null,
   "metadata": {},
   "outputs": [],
   "source": [
    "# 날짜(date)를 ‘.’을 기준으로 나누고 첫 번째 값을 월(month)로 지정 \n",
    "\n",
    "\n",
    "# 각 연도의 월별 평균 누적 타율(avg2) 계산\n",
    "\n",
    "\n",
    "# pivot_table을 이용해 데이터 변형\n"
   ]
  },
  {
   "cell_type": "markdown",
   "metadata": {},
   "source": [
    "<a id='m3'>연도별 월 평균 타율</a>"
   ]
  },
  {
   "cell_type": "code",
   "execution_count": null,
   "metadata": {},
   "outputs": [],
   "source": []
  },
  {
   "cell_type": "markdown",
   "metadata": {},
   "source": [
    "## 1.3. 데이터 전처리"
   ]
  },
  {
   "cell_type": "code",
   "execution_count": null,
   "metadata": {
    "scrolled": true
   },
   "outputs": [],
   "source": []
  },
  {
   "cell_type": "code",
   "execution_count": null,
   "metadata": {},
   "outputs": [],
   "source": [
    "# 수치형 타입의 변수 저장\n",
    "\n",
    "\n",
    "# 수치형 타입 변수 중 결측치가 하나라도 존재하는 행 출력\n",
    "# isna().sum(axis=1) -> 열 기준의 결측치 개수\n",
    "# df.loc[]를 통해 결측치 0개 이상 데이터를 추출\n"
   ]
  },
  {
   "cell_type": "code",
   "execution_count": null,
   "metadata": {},
   "outputs": [],
   "source": [
    "# 수치형 변수에 포함되는 데이터 타입 선정\n",
    "\n",
    "\n",
    "# 정규 시즌 데이터에서 결측치를 0으로 채우기\n"
   ]
  },
  {
   "cell_type": "code",
   "execution_count": null,
   "metadata": {},
   "outputs": [],
   "source": [
    "# 일별 데이터에서 결측치를 0으로 채우기\n"
   ]
  },
  {
   "cell_type": "code",
   "execution_count": null,
   "metadata": {},
   "outputs": [],
   "source": [
    "# 프리시즌 데이터에서 결측치를 0으로 채우기\n"
   ]
  },
  {
   "cell_type": "code",
   "execution_count": null,
   "metadata": {},
   "outputs": [],
   "source": [
    "# 수치형이 아닌 변수 추출\n",
    "\n",
    "\n",
    "# 수치형이 아닌 변수 중 결측치가 하나라도 존재하는 행 출력\n",
    "# isna().sum(axis=1) -> 열 기준의 결측치 개수\n",
    "# df.loc[]를 통해 결측치 0개 이상 데이터를 추출\n"
   ]
  },
  {
   "cell_type": "code",
   "execution_count": null,
   "metadata": {},
   "outputs": [],
   "source": [
    "# 삭제할 데이터 추출\n",
    "        \n",
    "\n",
    "# 데이터 삭제\n"
   ]
  },
  {
   "cell_type": "markdown",
   "metadata": {},
   "source": [
    "### 1.3.2. 규정 타수 정의"
   ]
  },
  {
   "cell_type": "code",
   "execution_count": null,
   "metadata": {},
   "outputs": [],
   "source": []
  },
  {
   "cell_type": "code",
   "execution_count": null,
   "metadata": {},
   "outputs": [],
   "source": [
    "# OPS 이상치 탐색을 위한 수치 정의\n",
    "\n",
    "\n",
    "# 실제 OPS 이상치 탐색\n"
   ]
  },
  {
   "cell_type": "markdown",
   "metadata": {},
   "source": [
    "<a id='m4'>7월 일별 경기수 합</a>"
   ]
  },
  {
   "cell_type": "code",
   "execution_count": null,
   "metadata": {},
   "outputs": [],
   "source": [
    "# 7.01~7.31 숫자 생성 후 반 올림\n"
   ]
  },
  {
   "cell_type": "markdown",
   "metadata": {},
   "source": [
    "### 1.3.3. 시간 변수"
   ]
  },
  {
   "cell_type": "code",
   "execution_count": null,
   "metadata": {},
   "outputs": [],
   "source": [
    "# 시간 변수를 생성하는 함수 정의\n"
   ]
  },
  {
   "cell_type": "code",
   "execution_count": null,
   "metadata": {
    "tags": []
   },
   "outputs": [],
   "source": [
    "# 상관관계를 탐색할 변수 선택\n"
   ]
  },
  {
   "cell_type": "code",
   "execution_count": null,
   "metadata": {},
   "outputs": [],
   "source": []
  },
  {
   "cell_type": "code",
   "execution_count": null,
   "metadata": {},
   "outputs": [],
   "source": [
    "# 시간변수 생성 함수를 통한 지표별 1년 전 성적 추출\n"
   ]
  },
  {
   "cell_type": "code",
   "execution_count": null,
   "metadata": {},
   "outputs": [],
   "source": []
  },
  {
   "cell_type": "code",
   "execution_count": null,
   "metadata": {},
   "outputs": [],
   "source": [
    "# 상관관계 도출\n"
   ]
  },
  {
   "cell_type": "code",
   "execution_count": null,
   "metadata": {},
   "outputs": [],
   "source": [
    "# 상관관계의 시각적 표현\n",
    "\n",
    "\n",
    "# 대각 행렬을 기준으로 한 쪽만 나타나게 설정해줍니다.\n",
    "\n"
   ]
  },
  {
   "cell_type": "code",
   "execution_count": null,
   "metadata": {},
   "outputs": [],
   "source": [
    "#희생 플라이 구하기\n",
    "#OBP(출루율) 계산 공식 이용하여 SF(희생 플라이)계산 >> (H+BB+HBP)/OBP-(AB+BB+HBP)\n",
    "\n",
    "\n",
    "#한 타수당 평균 희생 플라이 계산 후 필요한 것만 추출\n"
   ]
  },
  {
   "cell_type": "code",
   "execution_count": null,
   "metadata": {},
   "outputs": [],
   "source": [
    "#day_by_day에서 연도별 선수의 시즌 전반기 출루율과 관련된 성적 합 구하기\n",
    "\n",
    "#day_by_day와 regular season에서 구한 희생 플라이 관련 데이터를 합치기\n",
    "\n",
    "#선수별 전반기 희생 플라이 수 계산\n",
    "\n",
    "#선수별 전반기 OBP(출루율) 계산\n",
    "\n",
    "# OBP 결측치를 0으로 처리 \n",
    "\n",
    "# 분석에 필요하지 않은 열 제거\n"
   ]
  },
  {
   "cell_type": "markdown",
   "metadata": {},
   "source": [
    "### 1.3.4. 추가 변수 생성"
   ]
  },
  {
   "cell_type": "markdown",
   "metadata": {},
   "source": [
    "<a id='m5'>나이별 평균 성적</a>"
   ]
  },
  {
   "cell_type": "code",
   "execution_count": null,
   "metadata": {
    "tags": []
   },
   "outputs": [],
   "source": [
    "# 나이 변수 생성\n"
   ]
  },
  {
   "cell_type": "code",
   "execution_count": null,
   "metadata": {},
   "outputs": [],
   "source": [
    "# 나이, 평균 출루율, 출루율 중위값으로 구성된 데이터프레임 구축\n"
   ]
  },
  {
   "cell_type": "code",
   "execution_count": null,
   "metadata": {},
   "outputs": [],
   "source": []
  },
  {
   "cell_type": "code",
   "execution_count": null,
   "metadata": {},
   "outputs": [],
   "source": []
  },
  {
   "cell_type": "code",
   "execution_count": null,
   "metadata": {},
   "outputs": [],
   "source": [
    "# 나이에 따른 출루율 추이 시각화\n"
   ]
  },
  {
   "cell_type": "code",
   "execution_count": null,
   "metadata": {},
   "outputs": [],
   "source": [
    "# 나이를 포함한 변수 선택\n",
    "\n",
    "\n",
    "# 총 3년 전 성적까지 변수를 생성\n"
   ]
  },
  {
   "cell_type": "markdown",
   "metadata": {},
   "source": [
    "### 1.3.5. 데이터 사후 처리"
   ]
  },
  {
   "cell_type": "code",
   "execution_count": null,
   "metadata": {},
   "outputs": [],
   "source": [
    "# 결측치 비율 확인\n"
   ]
  },
  {
   "cell_type": "code",
   "execution_count": null,
   "metadata": {},
   "outputs": [],
   "source": [
    "#1. 선수별 OBP 평균\n",
    "# SF = (H+BB+HBP) / OBP-(AB+BB+HBP)\n",
    "# OBP = (H+BB+HBP) / (AB+BB+HBP+SF)\n"
   ]
  },
  {
   "cell_type": "code",
   "execution_count": null,
   "metadata": {},
   "outputs": [],
   "source": [
    "#2. 시즌별 OBP 평균\n"
   ]
  },
  {
   "cell_type": "code",
   "execution_count": null,
   "metadata": {},
   "outputs": [],
   "source": [
    "#### player_OBP_mean(선수평균) 열 추가\n"
   ]
  },
  {
   "cell_type": "code",
   "execution_count": null,
   "metadata": {},
   "outputs": [],
   "source": [
    "# 결측치 처리하는 함수 정의\n"
   ]
  },
  {
   "cell_type": "code",
   "execution_count": null,
   "metadata": {},
   "outputs": [],
   "source": [
    "# 생성한 함수를 이용해 결측치 처리 진행\n"
   ]
  },
  {
   "cell_type": "markdown",
   "metadata": {},
   "source": [
    "### 1.3.6. SLG 데이터 전처리"
   ]
  },
  {
   "cell_type": "code",
   "execution_count": null,
   "metadata": {},
   "outputs": [],
   "source": [
    "# 상관관계를 탐색할 변수 선택\n",
    "\n",
    "\n",
    "# 시간변수 생성 함수를 통한 지표별 1년 전 성적 추출\n",
    "\n",
    "# 상관관계 도출\n",
    "\n",
    "\n",
    "# 상관관계의 시각적 표현\n",
    "\n",
    "\n",
    "# 대각 행렬을 기준으로 한쪽만 나타나게 설정해줍니다.\n",
    "\n"
   ]
  },
  {
   "cell_type": "code",
   "execution_count": null,
   "metadata": {},
   "outputs": [],
   "source": [
    "# day_by_day에서 연도별 선수의 시즌 전반기 장타율(SLG)과 관련된 성적 합 구하기\n",
    "\n",
    "# 전반기 장타율 계산\n",
    "\n",
    "# SLG 결측치를 0으로 처리 \n",
    "\n",
    "# 필요한 칼럼만 불러오고 나이 계산\n"
   ]
  },
  {
   "cell_type": "code",
   "execution_count": null,
   "metadata": {},
   "outputs": [],
   "source": [
    "# 총 3년 전 성적까지 변수를 생성\n"
   ]
  },
  {
   "cell_type": "code",
   "execution_count": null,
   "metadata": {},
   "outputs": [],
   "source": [
    "# 선수별 SLG 평균 데이터(player_SLG_mean)를 만듭니다\n",
    "\n",
    "\n",
    "# 시즌별 SLG 평균 데이터(season_SLG_mean)를 만듭니다\n",
    "\n",
    "\n",
    "# 선수 평균의 SLG(player_OBP_mean)를 새로운 변수로 더합니다.\n",
    "\n",
    "\n",
    "# 선수 평균의 성적이 결측치이면 데이터에서 제거합니다.\n",
    "\n",
    "\n",
    "# 결측치 처리\n",
    "\n"
   ]
  },
  {
   "cell_type": "markdown",
   "metadata": {},
   "source": [
    "## 1.4. 모델링\n",
    "### 1.4.1. 데이터 분할"
   ]
  },
  {
   "cell_type": "code",
   "execution_count": null,
   "metadata": {},
   "outputs": [],
   "source": [
    "# 30타수 이상의 데이터만 학습\n",
    "\n",
    "\n",
    "# 2018년 데이터를 test 데이터 2018년 이전은 train 데이터로 나눈다.\n",
    "\n",
    "\n"
   ]
  },
  {
   "cell_type": "code",
   "execution_count": null,
   "metadata": {},
   "outputs": [],
   "source": []
  },
  {
   "cell_type": "markdown",
   "metadata": {},
   "source": [
    "### 1.4.2. 모델 선택"
   ]
  },
  {
   "cell_type": "code",
   "execution_count": null,
   "metadata": {},
   "outputs": [],
   "source": [
    "\n",
    "\n",
    "# log 단위(1e+01)로 1.e-04 ~ 1.e+01 사이의 구간에 대해 parameter를 탐색한다. \n",
    "\n",
    "\n",
    "# GridSearchCV를 이용하여 dict에 Lasso, Ridege OBP 모델을 저장한다.\n",
    "\n",
    "\n",
    "# GridSearchCV를 이용하여 dict에 Lasso, Ridge SLG 모델을 저장한다\n"
   ]
  },
  {
   "cell_type": "code",
   "execution_count": null,
   "metadata": {},
   "outputs": [],
   "source": [
    "\n",
    "\n",
    "# 랜덤 포레스트의 parameter 범위를 정의한다.\n",
    "\n",
    "\n",
    "# GridSearchCV를 이용하여 dict에 OBP Randomforest 모델을 저장한다.\n",
    "\n",
    "\n",
    "# GridSearchCV를 이용하여 dict에 OBP Randomforest 모델을 저장한다.\n",
    "\n"
   ]
  },
  {
   "cell_type": "raw",
   "metadata": {},
   "source": []
  },
  {
   "cell_type": "raw",
   "metadata": {},
   "source": []
  },
  {
   "cell_type": "raw",
   "metadata": {
    "tags": []
   },
   "source": []
  },
  {
   "cell_type": "code",
   "execution_count": null,
   "metadata": {},
   "outputs": [],
   "source": [
    "# 테스트 데이터셋(2018년)의 선수들의 OBP를 예측\n",
    "\n",
    "# XGB_OBP = XGB_OBP_gridsearch.predict(OBP_test.iloc[:,-5:])\n",
    "\n",
    "# test 데이터의 WRMSE 계산\n",
    "\n",
    "# 막대그래프 위에 값을 표시해준다.\n"
   ]
  },
  {
   "cell_type": "code",
   "execution_count": null,
   "metadata": {},
   "outputs": [],
   "source": [
    "# 테스트 데이터셋(2018년)의 선수들의 SLG를 예측\n",
    "\n",
    "\n",
    "# test데이터 WRMSE 계산\n",
    "\n"
   ]
  },
  {
   "cell_type": "markdown",
   "metadata": {},
   "source": [
    "### 1.4.3. 결과 해석과 평가"
   ]
  },
  {
   "cell_type": "code",
   "execution_count": null,
   "metadata": {},
   "outputs": [],
   "source": []
  },
  {
   "cell_type": "code",
   "execution_count": null,
   "metadata": {},
   "outputs": [],
   "source": [
    "# Lasso에서 GridSearchCV로 탐색한 최적의 alpha값 출력\n"
   ]
  },
  {
   "cell_type": "code",
   "execution_count": null,
   "metadata": {},
   "outputs": [],
   "source": []
  },
  {
   "cell_type": "markdown",
   "metadata": {},
   "source": [
    "## 1.5. 성능 향상을 위한 방법\n",
    "### 1.5.1. 앙상블"
   ]
  },
  {
   "cell_type": "code",
   "execution_count": null,
   "metadata": {},
   "outputs": [],
   "source": []
  },
  {
   "cell_type": "markdown",
   "metadata": {},
   "source": [
    "### 1.5.2. 단순화된 모델 생성"
   ]
  },
  {
   "cell_type": "code",
   "execution_count": null,
   "metadata": {},
   "outputs": [],
   "source": []
  },
  {
   "cell_type": "code",
   "execution_count": null,
   "metadata": {},
   "outputs": [],
   "source": []
  },
  {
   "cell_type": "code",
   "execution_count": null,
   "metadata": {},
   "outputs": [],
   "source": []
  },
  {
   "cell_type": "code",
   "execution_count": null,
   "metadata": {},
   "outputs": [],
   "source": []
  },
  {
   "cell_type": "code",
   "execution_count": null,
   "metadata": {},
   "outputs": [],
   "source": []
  },
  {
   "cell_type": "markdown",
   "metadata": {},
   "source": [
    "### 1.5.3. 테스트 데이터 정제"
   ]
  },
  {
   "cell_type": "code",
   "execution_count": null,
   "metadata": {},
   "outputs": [],
   "source": []
  },
  {
   "cell_type": "code",
   "execution_count": null,
   "metadata": {},
   "outputs": [],
   "source": []
  },
  {
   "cell_type": "code",
   "execution_count": null,
   "metadata": {},
   "outputs": [],
   "source": []
  },
  {
   "cell_type": "code",
   "execution_count": null,
   "metadata": {},
   "outputs": [],
   "source": []
  },
  {
   "cell_type": "code",
   "execution_count": null,
   "metadata": {},
   "outputs": [],
   "source": []
  },
  {
   "cell_type": "code",
   "execution_count": null,
   "metadata": {},
   "outputs": [],
   "source": []
  },
  {
   "cell_type": "code",
   "execution_count": null,
   "metadata": {},
   "outputs": [],
   "source": []
  },
  {
   "cell_type": "code",
   "execution_count": null,
   "metadata": {},
   "outputs": [],
   "source": []
  },
  {
   "cell_type": "code",
   "execution_count": null,
   "metadata": {},
   "outputs": [],
   "source": []
  },
  {
   "cell_type": "code",
   "execution_count": null,
   "metadata": {},
   "outputs": [],
   "source": []
  },
  {
   "cell_type": "code",
   "execution_count": null,
   "metadata": {},
   "outputs": [],
   "source": []
  },
  {
   "cell_type": "code",
   "execution_count": null,
   "metadata": {},
   "outputs": [],
   "source": []
  },
  {
   "cell_type": "code",
   "execution_count": null,
   "metadata": {},
   "outputs": [],
   "source": []
  },
  {
   "cell_type": "markdown",
   "metadata": {},
   "source": [
    "### 1.5.4. 반발계수의 변화"
   ]
  },
  {
   "cell_type": "code",
   "execution_count": null,
   "metadata": {},
   "outputs": [],
   "source": []
  },
  {
   "cell_type": "code",
   "execution_count": null,
   "metadata": {},
   "outputs": [],
   "source": []
  },
  {
   "cell_type": "code",
   "execution_count": null,
   "metadata": {},
   "outputs": [],
   "source": []
  },
  {
   "cell_type": "code",
   "execution_count": null,
   "metadata": {},
   "outputs": [],
   "source": []
  }
 ],
 "metadata": {
  "kernelspec": {
   "display_name": "Python 3 (ipykernel)",
   "language": "python",
   "name": "python3"
  },
  "language_info": {
   "codemirror_mode": {
    "name": "ipython",
    "version": 3
   },
   "file_extension": ".py",
   "mimetype": "text/x-python",
   "name": "python",
   "nbconvert_exporter": "python",
   "pygments_lexer": "ipython3",
   "version": "3.9.13"
  }
 },
 "nbformat": 4,
 "nbformat_minor": 4
}

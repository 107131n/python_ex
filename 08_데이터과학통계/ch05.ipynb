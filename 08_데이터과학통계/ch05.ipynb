{
 "cells": [
  {
   "cell_type": "code",
   "execution_count": 1,
   "id": "3ff34811-11cd-4b56-91a9-8caa10c0e01c",
   "metadata": {},
   "outputs": [],
   "source": [
    "import numpy as np\n",
    "import matplotlib.pyplot as plt"
   ]
  },
  {
   "cell_type": "code",
   "execution_count": 3,
   "id": "25e767aa-5ed0-4adb-953f-0b41e5695cae",
   "metadata": {},
   "outputs": [],
   "source": [
    "x_set = np.array([1,2,3,4,5,6])"
   ]
  },
  {
   "cell_type": "code",
   "execution_count": 4,
   "id": "bb3ecd92-c27f-4f4e-9285-622b02ad366d",
   "metadata": {},
   "outputs": [],
   "source": [
    "def f(x):\n",
    "    if x in x_set:\n",
    "        return x/21\n",
    "    else:\n",
    "        return 0"
   ]
  },
  {
   "cell_type": "code",
   "execution_count": 5,
   "id": "08fe6ea2-c472-4764-8d8c-5efddd97007d",
   "metadata": {},
   "outputs": [],
   "source": [
    "X = [x_set,f]"
   ]
  },
  {
   "cell_type": "code",
   "execution_count": 6,
   "id": "cbae7860-eb0d-44bc-92e2-058426b90a0a",
   "metadata": {},
   "outputs": [
    {
     "data": {
      "text/plain": [
       "array([0.04761905, 0.0952381 , 0.14285714, 0.19047619, 0.23809524,\n",
       "       0.28571429])"
      ]
     },
     "execution_count": 6,
     "metadata": {},
     "output_type": "execute_result"
    }
   ],
   "source": [
    "prob = np.array([ f(x_k)  for x_k in x_set])\n",
    "prob"
   ]
  },
  {
   "cell_type": "code",
   "execution_count": 7,
   "id": "fda236f8-3411-411b-b586-a5d7d95b37fa",
   "metadata": {},
   "outputs": [
    {
     "data": {
      "text/plain": [
       "{1: 0.047619047619047616,\n",
       " 2: 0.09523809523809523,\n",
       " 3: 0.14285714285714285,\n",
       " 4: 0.19047619047619047,\n",
       " 5: 0.23809523809523808,\n",
       " 6: 0.2857142857142857}"
      ]
     },
     "execution_count": 7,
     "metadata": {},
     "output_type": "execute_result"
    }
   ],
   "source": [
    "dict(zip(x_set,prob))"
   ]
  },
  {
   "cell_type": "code",
   "execution_count": 8,
   "id": "53269ecb-7323-45c2-a9ca-f0021baf14d9",
   "metadata": {
    "collapsed": true,
    "jupyter": {
     "outputs_hidden": true
    },
    "tags": []
   },
   "outputs": [
    {
     "data": {
      "image/png": "[encoded data removed]",
      "text/plain": [
       "<Figure size 1000x600 with 1 Axes>"
      ]
     },
     "metadata": {},
     "output_type": "display_data"
    }
   ],
   "source": [
    "fig = plt.figure(figsize=(10,6))\n",
    "ax = fig.add_subplot(111)\n",
    "ax.bar(x_set,prob)\n",
    "ax.set_xlabel('value')\n",
    "ax.set_ylabel('probability')\n",
    "plt.show()"
   ]
  },
  {
   "cell_type": "code",
   "execution_count": 9,
   "id": "00d386db-6fed-4f44-9919-590e4ff2e0b6",
   "metadata": {},
   "outputs": [
    {
     "data": {
      "text/plain": [
       "True"
      ]
     },
     "execution_count": 9,
     "metadata": {},
     "output_type": "execute_result"
    }
   ],
   "source": [
    "np.all(prob >= 0)"
   ]
  },
  {
   "cell_type": "code",
   "execution_count": 10,
   "id": "c642964c-93f3-4f77-86b3-6620bfc14112",
   "metadata": {},
   "outputs": [
    {
     "data": {
      "text/plain": [
       "0.9999999999999999"
      ]
     },
     "execution_count": 10,
     "metadata": {},
     "output_type": "execute_result"
    }
   ],
   "source": [
    "np.sum(prob)"
   ]
  },
  {
   "cell_type": "code",
   "execution_count": 11,
   "id": "38767acc-6666-4826-9c83-ad13d3afcd1a",
   "metadata": {},
   "outputs": [],
   "source": [
    "def F(x):\n",
    "    return np.sum([ f(x_k) for x_k in x_set if x_k <= x])"
   ]
  },
  {
   "cell_type": "code",
   "execution_count": 12,
   "id": "52420368-ae76-4c73-bc9d-b3fc9cc19b36",
   "metadata": {},
   "outputs": [
    {
     "data": {
      "text/plain": [
       "0.2857142857142857"
      ]
     },
     "execution_count": 12,
     "metadata": {},
     "output_type": "execute_result"
    }
   ],
   "source": [
    "F(3)"
   ]
  },
  {
   "cell_type": "code",
   "execution_count": 13,
   "id": "10691393-3ddd-466a-8871-8427b65d1408",
   "metadata": {},
   "outputs": [
    {
     "data": {
      "text/plain": [
       "array([ 5,  7,  9, 11, 13, 15])"
      ]
     },
     "execution_count": 13,
     "metadata": {},
     "output_type": "execute_result"
    }
   ],
   "source": [
    "y_set = np.array([ 2*x_k+3  for x_k in x_set])\n",
    "y_set"
   ]
  },
  {
   "cell_type": "code",
   "execution_count": 14,
   "id": "8c021643-c19d-4d13-b0f5-1d23896ace2f",
   "metadata": {},
   "outputs": [
    {
     "data": {
      "text/plain": [
       "{5: 0.047619047619047616,\n",
       " 7: 0.09523809523809523,\n",
       " 9: 0.14285714285714285,\n",
       " 11: 0.19047619047619047,\n",
       " 13: 0.23809523809523808,\n",
       " 15: 0.2857142857142857}"
      ]
     },
     "execution_count": 14,
     "metadata": {},
     "output_type": "execute_result"
    }
   ],
   "source": [
    "prob = np.array([ f(x_k)  for x_k in x_set])\n",
    "dict(zip(y_set,prob))"
   ]
  },
  {
   "cell_type": "code",
   "execution_count": 15,
   "id": "e32c0b81-77f4-4fae-b1a8-a9bc2ea2c668",
   "metadata": {},
   "outputs": [
    {
     "data": {
      "text/plain": [
       "4.333333333333333"
      ]
     },
     "execution_count": 15,
     "metadata": {},
     "output_type": "execute_result"
    }
   ],
   "source": [
    "np.sum([ x_k * f(x_k)  for x_k in x_set])"
   ]
  },
  {
   "cell_type": "code",
   "execution_count": 19,
   "id": "27e34d84-9aaf-40a7-b25f-596e5f123915",
   "metadata": {},
   "outputs": [
    {
     "data": {
      "text/plain": [
       "4.333559"
      ]
     },
     "execution_count": 19,
     "metadata": {},
     "output_type": "execute_result"
    }
   ],
   "source": [
    "sample = np.random.choice(x_set,1000000,p=prob)\n",
    "np.mean(sample)"
   ]
  },
  {
   "cell_type": "code",
   "execution_count": 21,
   "id": "3a696fce-457f-47c1-a9f5-787d97c342c6",
   "metadata": {},
   "outputs": [],
   "source": [
    "def E(X,g=lambda x : x):\n",
    "    x_set,f = X\n",
    "    return np.sum([ g(x_k) * f(x_k)  for x_k in x_set])"
   ]
  },
  {
   "cell_type": "code",
   "execution_count": 22,
   "id": "5fb91441-6611-43cf-aeba-ef21b3664f34",
   "metadata": {},
   "outputs": [
    {
     "data": {
      "text/plain": [
       "[array([1, 2, 3, 4, 5, 6]), <function __main__.f(x)>]"
      ]
     },
     "execution_count": 22,
     "metadata": {},
     "output_type": "execute_result"
    }
   ],
   "source": [
    "X"
   ]
  },
  {
   "cell_type": "code",
   "execution_count": 23,
   "id": "7ca0960f-4e5c-423c-8a1a-37a2c2ca6aa8",
   "metadata": {},
   "outputs": [
    {
     "data": {
      "text/plain": [
       "4.333333333333333"
      ]
     },
     "execution_count": 23,
     "metadata": {},
     "output_type": "execute_result"
    }
   ],
   "source": [
    "E(X)"
   ]
  },
  {
   "cell_type": "code",
   "execution_count": 24,
   "id": "55a413e8-70c4-4c4f-9881-144360a2fd29",
   "metadata": {},
   "outputs": [
    {
     "data": {
      "text/plain": [
       "11.666666666666664"
      ]
     },
     "execution_count": 24,
     "metadata": {},
     "output_type": "execute_result"
    }
   ],
   "source": [
    "E(X,g=lambda x: 2*x+3)"
   ]
  },
  {
   "cell_type": "code",
   "execution_count": 25,
   "id": "62f9411d-744c-44e0-9950-f993e031c333",
   "metadata": {},
   "outputs": [
    {
     "data": {
      "text/plain": [
       "11.666666666666666"
      ]
     },
     "execution_count": 25,
     "metadata": {},
     "output_type": "execute_result"
    }
   ],
   "source": [
    "2*E(X)+3"
   ]
  },
  {
   "cell_type": "code",
   "execution_count": 26,
   "id": "c3dca5b3-d41c-40f8-9104-ebc395a0bb4f",
   "metadata": {},
   "outputs": [
    {
     "data": {
      "text/plain": [
       "2.2222222222222223"
      ]
     },
     "execution_count": 26,
     "metadata": {},
     "output_type": "execute_result"
    }
   ],
   "source": [
    "mean = E(X)\n",
    "np.sum([ (x_k - mean)**2 * f(x_k) for x_k in x_set])"
   ]
  },
  {
   "cell_type": "code",
   "execution_count": 27,
   "id": "883bd235-d1c8-45c9-8c4c-896baa5bcc28",
   "metadata": {},
   "outputs": [],
   "source": [
    "def V(X,g=lambda x: x):\n",
    "    x_set,f = X\n",
    "    mean = E(X,g)\n",
    "    return np.sum([ (g(x_k)-mean)**2 * f(x_k)  for x_k in x_set])"
   ]
  },
  {
   "cell_type": "code",
   "execution_count": 28,
   "id": "cc11912c-b4c4-4098-810c-29b94fd3bfc2",
   "metadata": {},
   "outputs": [
    {
     "data": {
      "text/plain": [
       "2.2222222222222223"
      ]
     },
     "execution_count": 28,
     "metadata": {},
     "output_type": "execute_result"
    }
   ],
   "source": [
    "V(X)"
   ]
  },
  {
   "cell_type": "code",
   "execution_count": 29,
   "id": "8b69e04c-e3c7-4216-b3c3-67f08dde9c11",
   "metadata": {},
   "outputs": [
    {
     "data": {
      "text/plain": [
       "8.88888888888889"
      ]
     },
     "execution_count": 29,
     "metadata": {},
     "output_type": "execute_result"
    }
   ],
   "source": [
    "V(X,lambda x: 2*x+3)"
   ]
  },
  {
   "cell_type": "code",
   "execution_count": 30,
   "id": "e399d2aa-a404-4712-9250-fc025e2619bf",
   "metadata": {},
   "outputs": [
    {
     "data": {
      "text/plain": [
       "8.88888888888889"
      ]
     },
     "execution_count": 30,
     "metadata": {},
     "output_type": "execute_result"
    }
   ],
   "source": [
    "2**2*V(X)"
   ]
  },
  {
   "cell_type": "code",
   "execution_count": 31,
   "id": "beb19a3f-6a57-4212-8b18-b6b7bfe9d50a",
   "metadata": {
    "collapsed": true,
    "jupyter": {
     "outputs_hidden": true
    },
    "tags": []
   },
   "outputs": [
    {
     "data": {
      "text/plain": [
       "(array([ 2,  3,  4,  5,  6,  7,  8,  9, 10, 11, 12]),\n",
       " array([1, 2, 3, 4, 5, 6]))"
      ]
     },
     "execution_count": 31,
     "metadata": {},
     "output_type": "execute_result"
    }
   ],
   "source": [
    "x_set = np.arange(2,13)\n",
    "y_set = np.arange(1,7)\n",
    "x_set,y_set"
   ]
  },
  {
   "cell_type": "code",
   "execution_count": 46,
   "id": "4092a27f-5df1-4559-95f8-39aac2980b12",
   "metadata": {},
   "outputs": [],
   "source": [
    "def f_XY(x,y):\n",
    "    if 1 <= y <= 6 and 1 <= x-y <= 6:\n",
    "        return y*(x-y)/441\n",
    "    else:\n",
    "        return 0"
   ]
  },
  {
   "cell_type": "code",
   "execution_count": 47,
   "id": "9137a22a-608b-4fd7-b699-b67e17ed0dab",
   "metadata": {},
   "outputs": [],
   "source": [
    "XY = [x_set,y_set,f_XY]"
   ]
  },
  {
   "cell_type": "code",
   "execution_count": 48,
   "id": "04f58832-8a46-4e35-928b-06ea18f7dc54",
   "metadata": {},
   "outputs": [],
   "source": [
    "prob = np.array([[ f_XY(x_i,y_j) for y_j in y_set ] for x_i in x_set ])"
   ]
  },
  {
   "cell_type": "code",
   "execution_count": 49,
   "id": "a5f09d5a-0288-42d3-a8ec-e75c0617997a",
   "metadata": {},
   "outputs": [
    {
     "data": {
      "text/plain": [
       "0.002"
      ]
     },
     "execution_count": 49,
     "metadata": {},
     "output_type": "execute_result"
    }
   ],
   "source": [
    "1/441"
   ]
  },
  {
   "cell_type": "code",
   "execution_count": 50,
   "id": "dad9b053-d7d8-48ca-b90f-6307dbcc1998",
   "metadata": {
    "tags": []
   },
   "outputs": [
    {
     "data": {
      "text/plain": [
       "array([[0.002, 0.   , 0.   , 0.   , 0.   , 0.   ],\n",
       "       [0.005, 0.005, 0.   , 0.   , 0.   , 0.   ],\n",
       "       [0.007, 0.009, 0.007, 0.   , 0.   , 0.   ],\n",
       "       [0.009, 0.014, 0.014, 0.009, 0.   , 0.   ],\n",
       "       [0.011, 0.018, 0.02 , 0.018, 0.011, 0.   ],\n",
       "       [0.014, 0.023, 0.027, 0.027, 0.023, 0.014],\n",
       "       [0.   , 0.027, 0.034, 0.036, 0.034, 0.027],\n",
       "       [0.   , 0.   , 0.041, 0.045, 0.045, 0.041],\n",
       "       [0.   , 0.   , 0.   , 0.054, 0.057, 0.054],\n",
       "       [0.   , 0.   , 0.   , 0.   , 0.068, 0.068],\n",
       "       [0.   , 0.   , 0.   , 0.   , 0.   , 0.082]])"
      ]
     },
     "execution_count": 50,
     "metadata": {},
     "output_type": "execute_result"
    }
   ],
   "source": [
    "prob"
   ]
  },
  {
   "cell_type": "code",
   "execution_count": 52,
   "id": "828d15fe-eddb-4d37-b82a-317e44ffa046",
   "metadata": {},
   "outputs": [
    {
     "data": {
      "text/plain": [
       "(11, 6)"
      ]
     },
     "execution_count": 52,
     "metadata": {},
     "output_type": "execute_result"
    }
   ],
   "source": [
    "prob.shape"
   ]
  },
  {
   "cell_type": "code",
   "execution_count": 56,
   "id": "846ce708-2798-405a-85ee-e81fe96f3464",
   "metadata": {
    "collapsed": true,
    "jupyter": {
     "outputs_hidden": true
    },
    "tags": []
   },
   "outputs": [
    {
     "data": {
      "image/png": "[encoded data removed]",
      "text/plain": [
       "<Figure size 1000x800 with 2 Axes>"
      ]
     },
     "metadata": {},
     "output_type": "display_data"
    }
   ],
   "source": [
    "fig = plt.figure(figsize=(10,8))\n",
    "ax = fig.add_subplot(111)\n",
    "\n",
    "c = ax.pcolor(prob)\n",
    "ax.set_xticks(np.arange(prob.shape[1]) + 0.5 , minor=False)\n",
    "ax.set_yticks(np.arange(prob.shape[0]) + 0.5 , minor=False)\n",
    "ax.set_xticklabels(np.arange(1,7), minor=False)\n",
    "ax.set_yticklabels(np.arange(2,13), minor=False)\n",
    "ax.invert_yaxis()\n",
    "ax.xaxis.tick_top()\n",
    "fig.colorbar(c,ax=ax)\n",
    "plt.show()"
   ]
  },
  {
   "cell_type": "code",
   "execution_count": 57,
   "id": "de990776-02ff-4fa0-b8c0-ed667e1829da",
   "metadata": {},
   "outputs": [
    {
     "data": {
      "text/plain": [
       "True"
      ]
     },
     "execution_count": 57,
     "metadata": {},
     "output_type": "execute_result"
    }
   ],
   "source": [
    "np.all(prob >= 0)"
   ]
  },
  {
   "cell_type": "code",
   "execution_count": 58,
   "id": "3969b934-c02c-4432-961c-8e5b99ddd7bb",
   "metadata": {},
   "outputs": [
    {
     "data": {
      "text/plain": [
       "1.0"
      ]
     },
     "execution_count": 58,
     "metadata": {},
     "output_type": "execute_result"
    }
   ],
   "source": [
    "np.sum(prob)"
   ]
  },
  {
   "cell_type": "code",
   "execution_count": 59,
   "id": "0239276c-73f4-4e34-9a10-772ab54514eb",
   "metadata": {},
   "outputs": [],
   "source": [
    "def f_X(x):\n",
    "    return np.sum([ f_XY(x,y_k) for y_k in y_set])\n",
    "\n",
    "def f_Y(y):\n",
    "    return np.sum([ f_XY(x_k,y) for x_k in x_set])"
   ]
  },
  {
   "cell_type": "code",
   "execution_count": 60,
   "id": "7a29d069-796c-43f3-b5f7-7bf9c9c7dbd4",
   "metadata": {},
   "outputs": [],
   "source": [
    "X = [x_set, f_X]\n",
    "y = [y_set, f_Y]"
   ]
  },
  {
   "cell_type": "code",
   "execution_count": 61,
   "id": "06945231-40a3-4f7b-b8b9-92c8f1a3800e",
   "metadata": {},
   "outputs": [],
   "source": [
    "prob_x = np.array([ f_X(x_k)  for x_k in x_set])\n",
    "prob_y = np.array([ f_Y(y_k)  for y_k in y_set])"
   ]
  },
  {
   "cell_type": "code",
   "execution_count": 62,
   "id": "ba96cc7d-0176-41ca-a2da-12965daa766c",
   "metadata": {},
   "outputs": [
    {
     "data": {
      "text/plain": [
       "array([0.002, 0.009, 0.023, 0.045, 0.079, 0.127, 0.159, 0.172, 0.166,\n",
       "       0.136, 0.082])"
      ]
     },
     "execution_count": 62,
     "metadata": {},
     "output_type": "execute_result"
    }
   ],
   "source": [
    "prob_x"
   ]
  },
  {
   "cell_type": "code",
   "execution_count": null,
   "id": "da96fcfc-54c6-469c-a86b-a4c8b9dcab34",
   "metadata": {},
   "outputs": [],
   "source": []
  }
 ],
 "metadata": {
  "kernelspec": {
   "display_name": "Python 3 (ipykernel)",
   "language": "python",
   "name": "python3"
  },
  "language_info": {
   "codemirror_mode": {
    "name": "ipython",
    "version": 3
   },
   "file_extension": ".py",
   "mimetype": "text/x-python",
   "name": "python",
   "nbconvert_exporter": "python",
   "pygments_lexer": "ipython3",
   "version": "3.9.13"
  }
 },
 "nbformat": 4,
 "nbformat_minor": 5
}
